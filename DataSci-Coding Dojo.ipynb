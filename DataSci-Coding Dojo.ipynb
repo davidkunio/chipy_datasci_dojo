{
 "cells": [
  {
   "cell_type": "code",
   "execution_count": 109,
   "metadata": {
    "collapsed": true
   },
   "outputs": [],
   "source": [
    "import pandas as pd\n",
    "import zipfile as zp\n",
    "import os\n",
    "import numpy as np\n",
    "import matplotlib.pyplot as plt\n",
    "%matplotlib inline"
   ]
  },
  {
   "cell_type": "code",
   "execution_count": 2,
   "metadata": {
    "collapsed": false
   },
   "outputs": [
    {
     "name": "stdout",
     "output_type": "stream",
     "text": [
      "C:\\Users\\David\\Anaconda3\\Sandbox\\Chipy_Mentorship_DataSci_Dojo\\DataSources\n"
     ]
    }
   ],
   "source": [
    "os.chdir(os.path.dirname('C:\\\\Users\\\\David\\\\Anaconda3\\\\Sandbox\\\\Chipy_Mentorship_DataSci_Dojo\\\\DataSources\\\\'))\n",
    "print(os.getcwd())"
   ]
  },
  {
   "cell_type": "code",
   "execution_count": 3,
   "metadata": {
    "collapsed": false
   },
   "outputs": [],
   "source": [
    "projects = pd.read_csv('opendata_projects.zip',compression='zip')\n",
    "#projects_chicago = projects[projects['school_city'] == 'Chicago']\n",
    "#projects_chicago.to_csv('chicago_projects.csv')"
   ]
  },
  {
   "cell_type": "code",
   "execution_count": 4,
   "metadata": {
    "collapsed": false
   },
   "outputs": [
    {
     "data": {
      "text/html": [
       "<div>\n",
       "<table border=\"1\" class=\"dataframe\">\n",
       "  <thead>\n",
       "    <tr style=\"text-align: right;\">\n",
       "      <th></th>\n",
       "      <th>_projectid</th>\n",
       "      <th>_teacher_acctid</th>\n",
       "      <th>_schoolid</th>\n",
       "      <th>school_ncesid</th>\n",
       "      <th>school_latitude</th>\n",
       "      <th>school_longitude</th>\n",
       "      <th>school_city</th>\n",
       "      <th>school_state</th>\n",
       "      <th>school_zip</th>\n",
       "      <th>school_metro</th>\n",
       "      <th>...</th>\n",
       "      <th>students_reached</th>\n",
       "      <th>total_donations</th>\n",
       "      <th>num_donors</th>\n",
       "      <th>eligible_double_your_impact_match</th>\n",
       "      <th>eligible_almost_home_match</th>\n",
       "      <th>funding_status</th>\n",
       "      <th>date_posted</th>\n",
       "      <th>date_completed</th>\n",
       "      <th>date_thank_you_packet_mailed</th>\n",
       "      <th>date_expiration</th>\n",
       "    </tr>\n",
       "  </thead>\n",
       "  <tbody>\n",
       "    <tr>\n",
       "      <th>0</th>\n",
       "      <td>7342bd01a2a7725ce033a179d22e382d</td>\n",
       "      <td>5c43ef5eac0f5857c266baa1ccfa3d3f</td>\n",
       "      <td>9e72d6f2f1e9367b578b6479aa5852b7</td>\n",
       "      <td>3.600097e+11</td>\n",
       "      <td>40.688454</td>\n",
       "      <td>-73.910432</td>\n",
       "      <td>Brooklyn</td>\n",
       "      <td>NY</td>\n",
       "      <td>11207.0</td>\n",
       "      <td>urban</td>\n",
       "      <td>...</td>\n",
       "      <td>0.0</td>\n",
       "      <td>251</td>\n",
       "      <td>1</td>\n",
       "      <td>f</td>\n",
       "      <td>f</td>\n",
       "      <td>completed</td>\n",
       "      <td>2002-09-13 00:00:00</td>\n",
       "      <td>2002-09-23 00:00:00</td>\n",
       "      <td>2003-01-27 00:00:00</td>\n",
       "      <td>2003-12-31 00:00:00</td>\n",
       "    </tr>\n",
       "    <tr>\n",
       "      <th>1</th>\n",
       "      <td>b56b502d25666e29550d107bf7e17910</td>\n",
       "      <td>57426949b47700ccf62098e1e9b0220c</td>\n",
       "      <td>4a06a328dd87bd29892d73310052f45f</td>\n",
       "      <td>3.600077e+11</td>\n",
       "      <td>40.770233</td>\n",
       "      <td>-73.950760</td>\n",
       "      <td>New York</td>\n",
       "      <td>NY</td>\n",
       "      <td>10075.0</td>\n",
       "      <td>NaN</td>\n",
       "      <td>...</td>\n",
       "      <td>0.0</td>\n",
       "      <td>125</td>\n",
       "      <td>1</td>\n",
       "      <td>f</td>\n",
       "      <td>f</td>\n",
       "      <td>completed</td>\n",
       "      <td>2002-09-16 00:00:00</td>\n",
       "      <td>2002-09-19 00:00:00</td>\n",
       "      <td>2002-12-19 00:00:00</td>\n",
       "      <td>2003-12-31 00:00:00</td>\n",
       "    </tr>\n",
       "    <tr>\n",
       "      <th>2</th>\n",
       "      <td>3a88a47f97bd0c9b7c6a745bcd831ce3</td>\n",
       "      <td>7a20087fac86232883537cab45c0a6c9</td>\n",
       "      <td>66d08b506d2f3c30dec9e6fdb03cc279</td>\n",
       "      <td>3.600122e+11</td>\n",
       "      <td>40.729763</td>\n",
       "      <td>-73.816925</td>\n",
       "      <td>Flushing</td>\n",
       "      <td>NY</td>\n",
       "      <td>11367.0</td>\n",
       "      <td>urban</td>\n",
       "      <td>...</td>\n",
       "      <td>0.0</td>\n",
       "      <td>2110</td>\n",
       "      <td>1</td>\n",
       "      <td>f</td>\n",
       "      <td>f</td>\n",
       "      <td>completed</td>\n",
       "      <td>2002-09-17 00:00:00</td>\n",
       "      <td>2003-03-17 00:00:00</td>\n",
       "      <td>2004-06-14 00:00:00</td>\n",
       "      <td>2003-12-31 00:00:00</td>\n",
       "    </tr>\n",
       "    <tr>\n",
       "      <th>3</th>\n",
       "      <td>0b8a4f8eb1822ab6dd5cd9ffb918ece3</td>\n",
       "      <td>e5d28482308e2007992ae8b358b31bce</td>\n",
       "      <td>9bc7d4d92193a453669b6e2a56128e87</td>\n",
       "      <td>3.600077e+11</td>\n",
       "      <td>40.701778</td>\n",
       "      <td>-74.011840</td>\n",
       "      <td>New York</td>\n",
       "      <td>NY</td>\n",
       "      <td>10004.0</td>\n",
       "      <td>urban</td>\n",
       "      <td>...</td>\n",
       "      <td>0.0</td>\n",
       "      <td>1241</td>\n",
       "      <td>1</td>\n",
       "      <td>f</td>\n",
       "      <td>f</td>\n",
       "      <td>completed</td>\n",
       "      <td>2002-09-17 00:00:00</td>\n",
       "      <td>2002-09-17 00:00:00</td>\n",
       "      <td>2003-12-18 00:00:00</td>\n",
       "      <td>2003-12-31 00:00:00</td>\n",
       "    </tr>\n",
       "    <tr>\n",
       "      <th>4</th>\n",
       "      <td>45235cb116b3b35cd86d1c3a63961d7d</td>\n",
       "      <td>214d75bd0e6ce3e7085278ddd8f26daa</td>\n",
       "      <td>f7f12dee0009e6f9afa301bcca9d5070</td>\n",
       "      <td>NaN</td>\n",
       "      <td>40.815018</td>\n",
       "      <td>-73.856094</td>\n",
       "      <td>Bronx</td>\n",
       "      <td>NY</td>\n",
       "      <td>10473.0</td>\n",
       "      <td>urban</td>\n",
       "      <td>...</td>\n",
       "      <td>0.0</td>\n",
       "      <td>83</td>\n",
       "      <td>1</td>\n",
       "      <td>f</td>\n",
       "      <td>f</td>\n",
       "      <td>completed</td>\n",
       "      <td>2002-09-17 00:00:00</td>\n",
       "      <td>2002-09-17 00:00:00</td>\n",
       "      <td>2004-01-28 00:00:00</td>\n",
       "      <td>2003-12-31 00:00:00</td>\n",
       "    </tr>\n",
       "  </tbody>\n",
       "</table>\n",
       "<p>5 rows × 44 columns</p>\n",
       "</div>"
      ],
      "text/plain": [
       "                         _projectid                   _teacher_acctid  \\\n",
       "0  7342bd01a2a7725ce033a179d22e382d  5c43ef5eac0f5857c266baa1ccfa3d3f   \n",
       "1  b56b502d25666e29550d107bf7e17910  57426949b47700ccf62098e1e9b0220c   \n",
       "2  3a88a47f97bd0c9b7c6a745bcd831ce3  7a20087fac86232883537cab45c0a6c9   \n",
       "3  0b8a4f8eb1822ab6dd5cd9ffb918ece3  e5d28482308e2007992ae8b358b31bce   \n",
       "4  45235cb116b3b35cd86d1c3a63961d7d  214d75bd0e6ce3e7085278ddd8f26daa   \n",
       "\n",
       "                          _schoolid  school_ncesid  school_latitude  \\\n",
       "0  9e72d6f2f1e9367b578b6479aa5852b7   3.600097e+11        40.688454   \n",
       "1  4a06a328dd87bd29892d73310052f45f   3.600077e+11        40.770233   \n",
       "2  66d08b506d2f3c30dec9e6fdb03cc279   3.600122e+11        40.729763   \n",
       "3  9bc7d4d92193a453669b6e2a56128e87   3.600077e+11        40.701778   \n",
       "4  f7f12dee0009e6f9afa301bcca9d5070            NaN        40.815018   \n",
       "\n",
       "   school_longitude school_city school_state  school_zip school_metro  \\\n",
       "0        -73.910432    Brooklyn           NY     11207.0        urban   \n",
       "1        -73.950760    New York           NY     10075.0          NaN   \n",
       "2        -73.816925    Flushing           NY     11367.0        urban   \n",
       "3        -74.011840    New York           NY     10004.0        urban   \n",
       "4        -73.856094       Bronx           NY     10473.0        urban   \n",
       "\n",
       "          ...          students_reached total_donations num_donors  \\\n",
       "0         ...                       0.0             251          1   \n",
       "1         ...                       0.0             125          1   \n",
       "2         ...                       0.0            2110          1   \n",
       "3         ...                       0.0            1241          1   \n",
       "4         ...                       0.0              83          1   \n",
       "\n",
       "  eligible_double_your_impact_match eligible_almost_home_match funding_status  \\\n",
       "0                                 f                          f      completed   \n",
       "1                                 f                          f      completed   \n",
       "2                                 f                          f      completed   \n",
       "3                                 f                          f      completed   \n",
       "4                                 f                          f      completed   \n",
       "\n",
       "           date_posted       date_completed date_thank_you_packet_mailed  \\\n",
       "0  2002-09-13 00:00:00  2002-09-23 00:00:00          2003-01-27 00:00:00   \n",
       "1  2002-09-16 00:00:00  2002-09-19 00:00:00          2002-12-19 00:00:00   \n",
       "2  2002-09-17 00:00:00  2003-03-17 00:00:00          2004-06-14 00:00:00   \n",
       "3  2002-09-17 00:00:00  2002-09-17 00:00:00          2003-12-18 00:00:00   \n",
       "4  2002-09-17 00:00:00  2002-09-17 00:00:00          2004-01-28 00:00:00   \n",
       "\n",
       "       date_expiration  \n",
       "0  2003-12-31 00:00:00  \n",
       "1  2003-12-31 00:00:00  \n",
       "2  2003-12-31 00:00:00  \n",
       "3  2003-12-31 00:00:00  \n",
       "4  2003-12-31 00:00:00  \n",
       "\n",
       "[5 rows x 44 columns]"
      ]
     },
     "execution_count": 4,
     "metadata": {},
     "output_type": "execute_result"
    }
   ],
   "source": [
    "projects.head()"
   ]
  },
  {
   "cell_type": "code",
   "execution_count": 7,
   "metadata": {
    "collapsed": false
   },
   "outputs": [
    {
     "data": {
      "text/plain": [
       "Index(['_projectid', '_teacher_acctid', '_schoolid', 'school_ncesid',\n",
       "       'school_latitude', 'school_longitude', 'school_city', 'school_state',\n",
       "       'school_zip', 'school_metro', 'school_district', 'school_county',\n",
       "       'school_charter', 'school_magnet', 'school_year_round', 'school_nlns',\n",
       "       'school_kipp', 'school_charter_ready_promise', 'teacher_prefix',\n",
       "       'teacher_teach_for_america', 'teacher_ny_teaching_fellow',\n",
       "       'primary_focus_subject', 'primary_focus_area',\n",
       "       'secondary_focus_subject', 'secondary_focus_area', 'resource_type',\n",
       "       'poverty_level', 'grade_level', 'vendor_shipping_charges', 'sales_tax',\n",
       "       'payment_processing_charges', 'fulfillment_labor_materials',\n",
       "       'total_price_excluding_optional_support',\n",
       "       'total_price_including_optional_support', 'students_reached',\n",
       "       'total_donations', 'num_donors', 'eligible_double_your_impact_match',\n",
       "       'eligible_almost_home_match', 'funding_status', 'date_posted',\n",
       "       'date_completed', 'date_thank_you_packet_mailed', 'date_expiration'],\n",
       "      dtype='object')"
      ]
     },
     "execution_count": 7,
     "metadata": {},
     "output_type": "execute_result"
    }
   ],
   "source": [
    "projects.columns"
   ]
  },
  {
   "cell_type": "code",
   "execution_count": 57,
   "metadata": {
    "collapsed": false
   },
   "outputs": [
    {
     "name": "stdout",
     "output_type": "stream",
     "text": [
      "From 878852 rows 703082 will be used for training and 62412 used for testing\n"
     ]
    }
   ],
   "source": [
    "train_data = projects.sample(frac=.8)\n",
    "test_data= projects[~projects.isin(train_data)].dropna()\n",
    "print(\"From \"+str(len(projects))+\" rows \"+str(len(train_data))+\" will be used for training and \"+\n",
    "      str(len(test_data))+\" used for testing\")"
   ]
  },
  {
   "cell_type": "code",
   "execution_count": 152,
   "metadata": {
    "collapsed": false
   },
   "outputs": [
    {
     "data": {
      "image/png": "[encoded data removed]",
      "text/plain": [
       "<matplotlib.figure.Figure at 0x2ae27e10>"
      ]
     },
     "metadata": {},
     "output_type": "display_data"
    }
   ],
   "source": [
    "two_level = train_data.groupby(['funding_status','poverty_level'])['_projectid'].count().reset_index()\n",
    "one_level = train_data.groupby(['funding_status'])['_projectid'].count().reset_index()\n",
    "summary_data = pd.merge(one_level,two_level,on='funding_status')\n",
    "summary_data['count'] = summary_data['_projectid_y']/summary_data['_projectid_x']\n",
    "summary_data = summary_data[['funding_status','poverty_level','count']].set_index(['funding_status','poverty_level'])\n",
    "\n",
    "summary_data.unstack(level=-1).plot(kind='bar', stacked=True)\n",
    "plt.legend(bbox_to_anchor=(1.05, 1), loc=2, borderaxespad=0.)\n",
    "plt.show()"
   ]
  },
  {
   "cell_type": "code",
   "execution_count": 173,
   "metadata": {
    "collapsed": false
   },
   "outputs": [],
   "source": [
    "#(train_data.vendor_shipping_charges+train_data.sales_tax+train_data.payment_processing_charges+train_data.fulfillment_labor_materials+train_data.total_price_excluding_optional_support)/train_data.total_donations\n",
    "train_data['percent_covered']=train_data.total_donations/train_data.total_price_excluding_optional_support\n",
    "#train_data['percent_covered'][np.isinf(train_data['percent_covered'])] = np.nan\n",
    "#train_data['percent_covered']=train_data['percent_covered'].fillna(0)"
   ]
  },
  {
   "cell_type": "code",
   "execution_count": 171,
   "metadata": {
    "collapsed": false
   },
   "outputs": [
    {
     "data": {
      "text/html": [
       "<div>\n",
       "<table border=\"1\" class=\"dataframe\">\n",
       "  <thead>\n",
       "    <tr style=\"text-align: right;\">\n",
       "      <th></th>\n",
       "      <th>funding_status</th>\n",
       "      <th>poverty_level</th>\n",
       "      <th>percent_covered</th>\n",
       "    </tr>\n",
       "  </thead>\n",
       "  <tbody>\n",
       "    <tr>\n",
       "      <th>0</th>\n",
       "      <td>completed</td>\n",
       "      <td>high poverty</td>\n",
       "      <td>1.160588</td>\n",
       "    </tr>\n",
       "    <tr>\n",
       "      <th>1</th>\n",
       "      <td>completed</td>\n",
       "      <td>highest poverty</td>\n",
       "      <td>1.164351</td>\n",
       "    </tr>\n",
       "    <tr>\n",
       "      <th>2</th>\n",
       "      <td>completed</td>\n",
       "      <td>low poverty</td>\n",
       "      <td>1.161606</td>\n",
       "    </tr>\n",
       "    <tr>\n",
       "      <th>3</th>\n",
       "      <td>completed</td>\n",
       "      <td>moderate poverty</td>\n",
       "      <td>1.161101</td>\n",
       "    </tr>\n",
       "    <tr>\n",
       "      <th>4</th>\n",
       "      <td>expired</td>\n",
       "      <td>high poverty</td>\n",
       "      <td>0.094482</td>\n",
       "    </tr>\n",
       "    <tr>\n",
       "      <th>5</th>\n",
       "      <td>expired</td>\n",
       "      <td>highest poverty</td>\n",
       "      <td>0.080080</td>\n",
       "    </tr>\n",
       "    <tr>\n",
       "      <th>6</th>\n",
       "      <td>expired</td>\n",
       "      <td>low poverty</td>\n",
       "      <td>0.108444</td>\n",
       "    </tr>\n",
       "    <tr>\n",
       "      <th>7</th>\n",
       "      <td>expired</td>\n",
       "      <td>moderate poverty</td>\n",
       "      <td>0.111517</td>\n",
       "    </tr>\n",
       "    <tr>\n",
       "      <th>8</th>\n",
       "      <td>live</td>\n",
       "      <td>high poverty</td>\n",
       "      <td>0.121568</td>\n",
       "    </tr>\n",
       "    <tr>\n",
       "      <th>9</th>\n",
       "      <td>live</td>\n",
       "      <td>highest poverty</td>\n",
       "      <td>0.119615</td>\n",
       "    </tr>\n",
       "    <tr>\n",
       "      <th>10</th>\n",
       "      <td>live</td>\n",
       "      <td>low poverty</td>\n",
       "      <td>0.174909</td>\n",
       "    </tr>\n",
       "    <tr>\n",
       "      <th>11</th>\n",
       "      <td>live</td>\n",
       "      <td>moderate poverty</td>\n",
       "      <td>0.141437</td>\n",
       "    </tr>\n",
       "    <tr>\n",
       "      <th>12</th>\n",
       "      <td>reallocated</td>\n",
       "      <td>high poverty</td>\n",
       "      <td>0.709302</td>\n",
       "    </tr>\n",
       "    <tr>\n",
       "      <th>13</th>\n",
       "      <td>reallocated</td>\n",
       "      <td>highest poverty</td>\n",
       "      <td>0.672623</td>\n",
       "    </tr>\n",
       "    <tr>\n",
       "      <th>14</th>\n",
       "      <td>reallocated</td>\n",
       "      <td>low poverty</td>\n",
       "      <td>0.752195</td>\n",
       "    </tr>\n",
       "    <tr>\n",
       "      <th>15</th>\n",
       "      <td>reallocated</td>\n",
       "      <td>moderate poverty</td>\n",
       "      <td>0.761201</td>\n",
       "    </tr>\n",
       "  </tbody>\n",
       "</table>\n",
       "</div>"
      ],
      "text/plain": [
       "   funding_status     poverty_level  percent_covered\n",
       "0       completed      high poverty         1.160588\n",
       "1       completed   highest poverty         1.164351\n",
       "2       completed       low poverty         1.161606\n",
       "3       completed  moderate poverty         1.161101\n",
       "4         expired      high poverty         0.094482\n",
       "5         expired   highest poverty         0.080080\n",
       "6         expired       low poverty         0.108444\n",
       "7         expired  moderate poverty         0.111517\n",
       "8            live      high poverty         0.121568\n",
       "9            live   highest poverty         0.119615\n",
       "10           live       low poverty         0.174909\n",
       "11           live  moderate poverty         0.141437\n",
       "12    reallocated      high poverty         0.709302\n",
       "13    reallocated   highest poverty         0.672623\n",
       "14    reallocated       low poverty         0.752195\n",
       "15    reallocated  moderate poverty         0.761201"
      ]
     },
     "execution_count": 171,
     "metadata": {},
     "output_type": "execute_result"
    }
   ],
   "source": [
    "#train_data['percent_covered'].describe()\n",
    "train_data.groupby(['funding_status','poverty_level'])['percent_covered'].mean().reset_index()"
   ]
  }
 ],
 "metadata": {
  "kernelspec": {
   "display_name": "Python 3",
   "language": "python",
   "name": "python3"
  },
  "language_info": {
   "codemirror_mode": {
    "name": "ipython",
    "version": 3
   },
   "file_extension": ".py",
   "mimetype": "text/x-python",
   "name": "python",
   "nbconvert_exporter": "python",
   "pygments_lexer": "ipython3",
   "version": "3.4.5"
  }
 },
 "nbformat": 4,
 "nbformat_minor": 0
}
